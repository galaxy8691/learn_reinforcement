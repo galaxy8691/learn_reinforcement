{
 "cells": [
  {
   "cell_type": "code",
   "execution_count": 16,
   "metadata": {
    "_cell_guid": "b1076dfc-b9ad-4769-8c92-a6c4dae69d19",
    "_uuid": "8f2839f25d086af736a60e9eeb907d3b93b6e0e5",
    "execution": {
     "iopub.execute_input": "2024-10-08T06:20:23.469480Z",
     "iopub.status.busy": "2024-10-08T06:20:23.468938Z",
     "iopub.status.idle": "2024-10-08T06:20:58.399663Z",
     "shell.execute_reply": "2024-10-08T06:20:58.397435Z",
     "shell.execute_reply.started": "2024-10-08T06:20:23.469427Z"
    },
    "trusted": true
   },
   "outputs": [],
   "source": [
    "#!pip install gymnasium\n",
    "#!pip install swig\n",
    "#!pip install gymnasium[box2d]\n",
    "from IPython import display\n",
    "%matplotlib inline\n",
    "import gymnasium as gym\n",
    "import torch\n",
    "from torch import nn\n",
    "from torch import optim\n",
    "import torch.nn.functional as F\n",
    "import time\n",
    "import random\n",
    "#torch.set_default_device('cuda')"
   ]
  },
  {
   "cell_type": "code",
   "execution_count": 17,
   "metadata": {
    "execution": {
     "iopub.execute_input": "2024-10-08T05:53:22.405286Z",
     "iopub.status.busy": "2024-10-08T05:53:22.404705Z",
     "iopub.status.idle": "2024-10-08T05:53:22.411733Z",
     "shell.execute_reply": "2024-10-08T05:53:22.410500Z",
     "shell.execute_reply.started": "2024-10-08T05:53:22.405227Z"
    },
    "trusted": true
   },
   "outputs": [],
   "source": [
    "from PIL import Image\n",
    "import numpy as np\n",
    "def display_image(imageArray):\n",
    "    display.display(Image.fromarray(np.array(imageArray),'RGB'),clear=True)"
   ]
  },
  {
   "cell_type": "code",
   "execution_count": 18,
   "metadata": {
    "execution": {
     "iopub.execute_input": "2024-10-08T06:34:43.816121Z",
     "iopub.status.busy": "2024-10-08T06:34:43.815682Z",
     "iopub.status.idle": "2024-10-08T06:34:43.821833Z",
     "shell.execute_reply": "2024-10-08T06:34:43.820600Z",
     "shell.execute_reply.started": "2024-10-08T06:34:43.816076Z"
    },
    "trusted": true
   },
   "outputs": [],
   "source": [
    "from collections import namedtuple\n",
    "Transition  = namedtuple('Transition', ('state','action', 'state_next','reward'))"
   ]
  },
  {
   "cell_type": "code",
   "execution_count": 19,
   "metadata": {},
   "outputs": [],
   "source": [
    "class Net(nn.Module):\n",
    "    def __init__(self):\n",
    "        super(Net,self).__init__()\n",
    "        self.fc1 = nn.Linear(4,32)\n",
    "        self.fc2 = nn.Linear(32,32)\n",
    "        self.fc3 = nn.Linear(32,2)\n",
    "\n",
    "    def forward(self,x):\n",
    "        x = F.relu(self.fc1(x))\n",
    "        x = F.relu(self.fc2(x))\n",
    "        x = self.fc3(x)\n",
    "        return x"
   ]
  },
  {
   "cell_type": "code",
   "execution_count": 35,
   "metadata": {
    "execution": {
     "iopub.execute_input": "2024-10-08T08:51:01.510227Z",
     "iopub.status.busy": "2024-10-08T08:51:01.509774Z",
     "iopub.status.idle": "2024-10-08T08:51:01.534557Z",
     "shell.execute_reply": "2024-10-08T08:51:01.533101Z",
     "shell.execute_reply.started": "2024-10-08T08:51:01.510181Z"
    },
    "trusted": true
   },
   "outputs": [],
   "source": [
    "device = torch.device(\"cuda\" if torch.cuda.is_available() else \"cpu\")\n",
    "MAX_STEP = 500\n",
    "NUM_EPISODE = 500\n",
    "CAPACITY = 10000\n",
    "BATCH_SIZE = 32\n",
    "GAMMA = 0.99\n",
    "memory = []\n",
    "index = 0\n",
    "target_count = 100\n",
    "target_suceess_count = 0\n",
    "\n",
    "main_model = Net()\n",
    "main_model.to(device)\n",
    "target_model = Net()\n",
    "target_model.to(device)\n",
    "\n",
    "optimizer = optim.Adam(main_model.parameters(), lr=0.0001)\n",
    "\n",
    "def push(state, action, state_next, reward):\n",
    "    global index\n",
    "    #print(index)\n",
    "    if len(memory) < CAPACITY:\n",
    "        memory.append(None)\n",
    "    memory[index] = Transition(state,action,state_next, reward)\n",
    "    index = (index + 1) % CAPACITY\n",
    "\n",
    "def sample(batch_size):\n",
    "    return random.sample(memory,batch_size)\n",
    "\n",
    "def replay():\n",
    "    if len(memory) < BATCH_SIZE:\n",
    "        return\n",
    "    transition = sample(BATCH_SIZE)\n",
    "    batch = Transition(*zip(*transition))\n",
    "    state_batch = torch.cat(batch.state).to(device)\n",
    "    action_batch = torch.cat(batch.action).to(device)\n",
    "    reward_batch = torch.cat(batch.reward).to(device)\n",
    "    non_final_next_states = torch.cat([s for s in batch.state_next if s is not None]).to(device)\n",
    "    main_model.eval()\n",
    "    target_model.eval()\n",
    "    state_action_value = main_model(state_batch).gather(1,action_batch)\n",
    "    mask = torch.ByteTensor(tuple(map(lambda s: s is not None, batch.state_next))).to(device) != 0\n",
    "    nsv = torch.zeros(BATCH_SIZE).to(device)\n",
    "    nsv[mask] = target_model(non_final_next_states).max(1)[0].detach().to(device)\n",
    "    expected_state_action_values = reward_batch + GAMMA * nsv\n",
    "    main_model.train()\n",
    "    loss = F.smooth_l1_loss(state_action_value, expected_state_action_values.unsqueeze(1))\n",
    "    optimizer.zero_grad()\n",
    "    loss.backward()\n",
    "    optimizer.step()\n",
    "\n",
    "def update_target_model():\n",
    "    target_model.load_state_dict(main_model.state_dict())   \n",
    "    \n",
    "def reset(env):\n",
    "      observation = env.reset()[0]\n",
    "      return observation\n",
    "\n",
    "def reset_memory():\n",
    "    global memory\n",
    "    global index\n",
    "    memory = []\n",
    "    index = 0\n",
    "\n",
    "def get_action(s,epsilon):\n",
    "    if np.random.rand() < epsilon:\n",
    "        action = torch.LongTensor([[random.randrange(2)]]).to(device)\n",
    "    else:\n",
    "        main_model.eval()\n",
    "        with torch.no_grad():\n",
    "            action = main_model(s).max(1)[1].view(1,1)\n",
    "    return action\n",
    "\n",
    "# def Q_learning(s, a, r, s_next, Q, eta, gamma, is_terminated):\n",
    "#     s = digitize_state(s)\n",
    "#     s_next = digitize_state(s_next)\n",
    "#     if is_terminated:\n",
    "#         Q[s, a] = Q[s, a] + eta * (r- Q[s, a])\n",
    "#     else:\n",
    "#         Q[s, a] = Q[s, a] + eta * (r + gamma * np.nanmax(Q[s_next, :]) - Q[s, a])\n",
    "#     return Q\n",
    "\n",
    "def run_once(env, initial_observation, epsilon, show=False, train=True):\n",
    "    global target_count, target_suceess_count\n",
    "    observation = initial_observation\n",
    "    s = torch.from_numpy(observation).type(torch.FloatTensor)\n",
    "    s = torch.unsqueeze(s,0).to(device)\n",
    "    a = get_action(s, epsilon)\n",
    "    a_next = a\n",
    "    count = 0;\n",
    "  \n",
    "    while True:\n",
    "        is_terminated = False\n",
    "        if show:\n",
    "            time.sleep(0.01)\n",
    "            img = env.render()\n",
    "            display_image(img)\n",
    "        a = a_next\n",
    "        #s_a_history[-1][1] = a\n",
    "        s_next, reward, terminated, truncated, info = env.step(a.item())\n",
    "        s_next = torch.from_numpy(s_next).type(torch.FloatTensor)\n",
    "        s_next = torch.unsqueeze(s_next,0).to(device)\n",
    "        #s_a_history.append([s_next, np.nan])\n",
    "        if count > target_count:\n",
    "            r = torch.FloatTensor([1.0])\n",
    "            a_next = None\n",
    "            is_terminated = True\n",
    "            s_next = None\n",
    "            target_suceess_count += 1\n",
    "            if target_count <= 900:\n",
    "                if target_suceess_count > 10:\n",
    "                    target_count += 100\n",
    "                    target_suceess_count = 0\n",
    "                    print(\"new target is \", target_count)\n",
    "        elif count < target_count and terminated:\n",
    "            r = torch.FloatTensor([-1.0])\n",
    "            a_next = None\n",
    "            is_terminated = True\n",
    "            s_next = None\n",
    "            target_suceess_count = 0\n",
    "        else:\n",
    "            r = torch.FloatTensor([0.0])\n",
    "            a_next = get_action(s_next, epsilon)\n",
    "        push(s, a, s_next, r)\n",
    "        if train:\n",
    "            \n",
    "            replay()\n",
    "            \n",
    "        if is_terminated:\n",
    "            if show:\n",
    "                time.sleep(0.01)\n",
    "                img = env.render()\n",
    "                display_image(img)\n",
    "            if train:\n",
    "                update_target_model()\n",
    "            break\n",
    "        else:\n",
    "            s = s_next\n",
    "        count += 1\n",
    "        "
   ]
  },
  {
   "cell_type": "code",
   "execution_count": 48,
   "metadata": {},
   "outputs": [
    {
     "data": {
      "text/plain": [
       "0"
      ]
     },
     "execution_count": 48,
     "metadata": {},
     "output_type": "execute_result"
    }
   ],
   "source": [
    "# model = nn.Sequential()\n",
    "# model.add_module('fc1',nn.Linear(4,32))\n",
    "# model.add_module('relu1',nn.ReLU())\n",
    "# model.add_module('fc2', nn.Linear(32,32))\n",
    "# model.add_module('relu2', nn.ReLU())\n",
    "# model.add_module('fc2', nn.Linear(32,2))\n",
    "\n",
    "a = []\n",
    "memory=[]\n",
    "memory.append(Transition(torch.Tensor([1,2,3,4]).unsqueeze(0),torch.Tensor([0]).unsqueeze(0),torch.Tensor([3,4,2,2]).unsqueeze(0),torch.Tensor([1]).unsqueeze(0)))\n",
    "memory.append(Transition(torch.Tensor([5,5,7,6]).unsqueeze(0),torch.Tensor([1]).unsqueeze(0),torch.Tensor([7,0,2,0]).unsqueeze(0),torch.Tensor([0]).unsqueeze(0)))\n",
    "memory.append(Transition(torch.Tensor([6,2,3,4]).unsqueeze(0),torch.Tensor([1]).unsqueeze(0),None,torch.Tensor([0]).unsqueeze(0)))\n",
    "#memory.append(Transition([6,2,3,4],[1],[3,5,4,2],0))\n",
    "batch = Transition(*zip(*memory))\n",
    "\n",
    "\n",
    "\n",
    "state_batch = torch.cat(batch.state)\n",
    "action_batch = torch.cat(batch.action)\n",
    "reward_batch = torch.cat(batch.reward)\n",
    "non_final_next_states = torch.cat([s for s in batch.state_next if s is not None])\n",
    "state_batch\n",
    "model.eval()\n",
    "model(state_batch).gather(1,action_batch.long())\n",
    "mask = torch.ByteTensor(tuple(map(lambda s: s is not None, batch.state_next))) != 0\n",
    "nsv = torch.zeros(3)\n",
    "nsv[mask] = model(non_final_next_states).max(1)[0].detach()\n",
    "\n",
    "#model(state_batch[0].unsqueeze(1)).max(1)[1].view(1,1)\n",
    "get_action(state_batch[0].unsqueeze(0),0).item()\n",
    "#batch\n",
    "#torch.cat(batch.reward)"
   ]
  },
  {
   "cell_type": "code",
   "execution_count": 36,
   "metadata": {
    "execution": {
     "iopub.execute_input": "2024-10-08T05:57:21.948645Z",
     "iopub.status.busy": "2024-10-08T05:57:21.948192Z",
     "iopub.status.idle": "2024-10-08T05:58:08.854997Z",
     "shell.execute_reply": "2024-10-08T05:58:08.853789Z",
     "shell.execute_reply.started": "2024-10-08T05:57:21.948601Z"
    },
    "trusted": true
   },
   "outputs": [
    {
     "name": "stdout",
     "output_type": "stream",
     "text": [
      "episode: 100\n",
      "new target is  200\n",
      "new target is  300\n",
      "new target is  400\n",
      "episode: 200\n",
      "new target is  500\n",
      "episode: 300\n",
      "new target is  600\n",
      "episode: 400\n",
      "new target is  700\n",
      "new target is  800\n",
      "new target is  900\n",
      "new target is  1000\n"
     ]
    }
   ],
   "source": [
    "env = gym.make('CartPole-v1', render_mode='rgb_array')\n",
    "epsilon = 0.5\n",
    "is_continue = True\n",
    "episode = 1\n",
    "reset_memory()\n",
    "target_count = 100\n",
    "target_suceess_count = 0\n",
    "while is_continue:\n",
    "    observation = reset(env)\n",
    "    if episode % 100 == 0:\n",
    "        print('episode: ' + str(episode))\n",
    "    epsilon = epsilon / 1.1\n",
    "    run_once(env, observation, epsilon, show=False)\n",
    "    episode = episode + 1\n",
    "    if episode > 1000 or target_count >= 1000:\n",
    "        break\n",
    "env.close()"
   ]
  },
  {
   "cell_type": "code",
   "execution_count": 37,
   "metadata": {
    "execution": {
     "iopub.execute_input": "2024-10-08T06:21:28.780907Z",
     "iopub.status.busy": "2024-10-08T06:21:28.780440Z",
     "iopub.status.idle": "2024-10-08T06:21:28.791620Z",
     "shell.execute_reply": "2024-10-08T06:21:28.790200Z",
     "shell.execute_reply.started": "2024-10-08T06:21:28.780860Z"
    },
    "trusted": true
   },
   "outputs": [
    {
     "data": {
      "image/jpeg": "[encoded data removed]",
      "image/png": "[encoded data removed]",
      "text/plain": [
       "<PIL.Image.Image image mode=RGB size=600x400>"
      ]
     },
     "metadata": {},
     "output_type": "display_data"
    }
   ],
   "source": [
    "env = gym.make('CartPole-v1', render_mode='rgb_array')\n",
    "env.reset()\n",
    "reset_memory()\n",
    "observation = reset(env)\n",
    "run_once(env, observation, 0, show=True, train=False)\n",
    "# ss = torch.from_numpy(observation).type(torch.FloatTensor)\n",
    "# ss = torch.unsqueeze(ss,0)\n",
    "# ss"
   ]
  },
  {
   "cell_type": "code",
   "execution_count": 99,
   "metadata": {},
   "outputs": [
    {
     "data": {
      "text/plain": [
       "device(type='cuda', index=0)"
      ]
     },
     "execution_count": 99,
     "metadata": {},
     "output_type": "execute_result"
    }
   ],
   "source": []
  }
 ],
 "metadata": {
  "kaggle": {
   "accelerator": "none",
   "dataSources": [],
   "isGpuEnabled": false,
   "isInternetEnabled": true,
   "language": "python",
   "sourceType": "notebook"
  },
  "kernelspec": {
   "display_name": "Python 3",
   "language": "python",
   "name": "python3"
  },
  "language_info": {
   "codemirror_mode": {
    "name": "ipython",
    "version": 3
   },
   "file_extension": ".py",
   "mimetype": "text/x-python",
   "name": "python",
   "nbconvert_exporter": "python",
   "pygments_lexer": "ipython3",
   "version": "3.12.3"
  }
 },
 "nbformat": 4,
 "nbformat_minor": 4
}
